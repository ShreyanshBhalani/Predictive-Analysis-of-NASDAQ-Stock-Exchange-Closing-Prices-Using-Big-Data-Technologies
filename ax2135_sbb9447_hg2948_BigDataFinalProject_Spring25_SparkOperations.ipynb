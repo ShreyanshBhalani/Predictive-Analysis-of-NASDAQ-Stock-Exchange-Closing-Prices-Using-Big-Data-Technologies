{
  "cells": [
    {
      "cell_type": "markdown",
      "id": "cfe09d58",
      "metadata": {
        "id": "cfe09d58"
      },
      "source": [
        "# Big Data Project - Trading at the close\n",
        "\n",
        "Create a spark session, the app created is named 'Optiver', which is the provider of this dataset"
      ]
    },
    {
      "cell_type": "code",
      "source": [
        "from google.colab import drive\n",
        "drive.mount('/content/drive')"
      ],
      "metadata": {
        "colab": {
          "base_uri": "https://localhost:8080/"
        },
        "id": "NNsI1FUleddF",
        "outputId": "2e56d58f-5b07-4527-aaa3-0edc35288898"
      },
      "id": "NNsI1FUleddF",
      "execution_count": 1,
      "outputs": [
        {
          "output_type": "stream",
          "name": "stdout",
          "text": [
            "Mounted at /content/drive\n"
          ]
        }
      ]
    },
    {
      "cell_type": "code",
      "execution_count": 2,
      "id": "aee4ae3e",
      "metadata": {
        "id": "aee4ae3e"
      },
      "outputs": [],
      "source": [
        "from pyspark.sql import SparkSession\n",
        "\n",
        "# Create a Spark session\n",
        "spark = SparkSession.builder.appName(\"Optiver\").getOrCreate()"
      ]
    },
    {
      "cell_type": "markdown",
      "id": "e5a032d9",
      "metadata": {
        "id": "e5a032d9"
      },
      "source": [
        "## Getting the data\n",
        "The dataset is stored in a shared drive and is accessed here to retrieve the train.csv file, which contains the complete trading data used for analysis."
      ]
    },
    {
      "cell_type": "markdown",
      "id": "72039c7b",
      "metadata": {
        "id": "72039c7b"
      },
      "source": [
        "A spark data frame is created from the uploaded csv."
      ]
    },
    {
      "cell_type": "code",
      "execution_count": 3,
      "id": "e39f3705",
      "metadata": {
        "id": "e39f3705"
      },
      "outputs": [],
      "source": [
        "# Read the CSV file into a DataFrame\n",
        "df = spark.read.csv(\"/content/drive/MyDrive/optiver-trading-at-the-close/train.csv\", header=True, inferSchema=True)\n",
        "\n",
        "# Register the DataFrame as a temporary table\n",
        "df.createOrReplaceTempView(\"train_csv\")"
      ]
    },
    {
      "cell_type": "markdown",
      "id": "779aa0e6",
      "metadata": {
        "id": "779aa0e6"
      },
      "source": [
        "## Data Exploration\n",
        "\n"
      ]
    },
    {
      "cell_type": "code",
      "execution_count": 4,
      "id": "7fc55e43",
      "metadata": {
        "id": "7fc55e43",
        "colab": {
          "base_uri": "https://localhost:8080/"
        },
        "outputId": "466bb978-42ca-41c3-9ec9-e0b4fc578549"
      },
      "outputs": [
        {
          "output_type": "stream",
          "name": "stdout",
          "text": [
            "+--------+-------+-----------------+--------------+-----------------------+---------------+-------------+---------+----------+---------+---------+---------+---------+---+----------+-------+------+\n",
            "|stock_id|date_id|seconds_in_bucket|imbalance_size|imbalance_buy_sell_flag|reference_price| matched_size|far_price|near_price|bid_price| bid_size|ask_price| ask_size|wap|    target|time_id|row_id|\n",
            "+--------+-------+-----------------+--------------+-----------------------+---------------+-------------+---------+----------+---------+---------+---------+---------+---+----------+-------+------+\n",
            "|       0|      0|                0|    3180602.69|                      1|       0.999812|1.338027664E7|     NULL|      NULL| 0.999812|  60651.5| 1.000026|  8493.03|1.0| -3.029704|      0| 0_0_0|\n",
            "|       1|      0|                0|     166603.91|                     -1|       0.999896|   1642214.25|     NULL|      NULL| 0.999896|  3233.04|  1.00066| 20605.09|1.0| -5.519986|      0| 0_0_1|\n",
            "|       2|      0|                0|     302879.87|                     -1|       0.999561|   1819368.03|     NULL|      NULL| 0.999403|  37956.0| 1.000298|  18995.0|1.0|  -8.38995|      0| 0_0_2|\n",
            "|       3|      0|                0| 1.191768227E7|                     -1|       1.000171|1.838974562E7|     NULL|      NULL| 0.999999|   2324.9| 1.000214| 479032.4|1.0|-4.0102005|      0| 0_0_3|\n",
            "|       4|      0|                0|     447549.96|                     -1|       0.999532|1.786061495E7|     NULL|      NULL| 0.999394| 16485.54| 1.000016|    434.1|1.0|-7.3498487|      0| 0_0_4|\n",
            "|       5|      0|                0|           0.0|                      0|       1.000635|1.355287592E7|     NULL|      NULL| 0.999779|  1962.72| 1.000635|  5647.65|1.0| 6.7794323|      0| 0_0_5|\n",
            "|       6|      0|                0|      969969.4|                      1|       1.000115|   3647503.98|     NULL|      NULL| 0.999506|  6663.16| 1.000283|  3810.48|1.0|-2.4998188|      0| 0_0_6|\n",
            "|       7|      0|                0|     9412959.1|                      1|       0.999818|2.126124587E7|     NULL|      NULL| 0.999741|   5139.2|  1.00013|   2570.6|1.0|-1.9598007|      0| 0_0_7|\n",
            "|       8|      0|                0|    2394875.85|                      1|       0.999916|   9473209.08|     NULL|      NULL| 0.999022|  52011.6| 1.000041|  2169.36|1.0| -5.970001|      0| 0_0_8|\n",
            "|       9|      0|                0|    3039700.65|                     -1|       1.000969|   6248958.45|     NULL|      NULL| 0.999354|   6191.0| 1.000646|   6199.0|1.0|  7.970333|      0| 0_0_9|\n",
            "|      10|      0|                0| 1.048275219E7|                     -1|       1.001374|    8839457.1|     NULL|      NULL| 0.999885|  18802.0| 1.001321|217098.37|1.0|  5.350113|      0|0_0_10|\n",
            "|      11|      0|                0|     1506120.2|                     -1|       0.999968|   2001112.44|     NULL|      NULL|  0.99984|  1174.45| 1.000351|  2585.11|1.0| 2.5594234|      0|0_0_11|\n",
            "|      12|      0|                0| 1.173994544E7|                      1|       0.999794| 1.35971187E7|     NULL|      NULL| 0.999794|  33221.0| 1.000296|  47824.0|1.0|  8.399487|      0|0_0_12|\n",
            "|      13|      0|                0|    5749286.01|                      1|       0.998995|   7039173.61|     NULL|      NULL| 0.999074| 12327.73| 1.000096|   1272.2|1.0|-10.750294|      0|0_0_13|\n",
            "|      14|      0|                0|    8899495.49|                      1|       1.000495|3.902048494E7|     NULL|      NULL| 0.999976|  4321.24| 1.001013| 185388.0|1.0| 2.3198128|      0|0_0_14|\n",
            "|      15|      0|                0|     4469771.0|                      1|       0.999403|   1765835.46|     NULL|      NULL| 0.999334|223339.68| 1.000023|  7551.44|1.0|   1.72019|      0|0_0_15|\n",
            "|      16|      0|                0|     472499.39|                     -1|       0.999258|    3438806.6|     NULL|      NULL| 0.998948|  9879.12| 1.000058|   549.45|1.0| -8.170009|      0|0_0_16|\n",
            "|      17|      0|                0| 1.241136237E7|                     -1|       1.000966|2.728888125E7|     NULL|      NULL| 0.999028|  12438.0| 1.000648|  8305.44|1.0|-3.5899878|      0|0_0_17|\n",
            "|      18|      0|                0|     516904.04|                     -1|       1.000029|   1263451.92|     NULL|      NULL| 0.999847|  4271.28| 1.000212|  5916.24|1.0|-11.439919|      0|0_0_18|\n",
            "|      19|      0|                0|           0.0|                      0|       0.999387|   2815450.75|     NULL|      NULL| 0.999218|  17775.0| 1.001298| 29567.92|1.0|  4.299879|      0|0_0_19|\n",
            "+--------+-------+-----------------+--------------+-----------------------+---------------+-------------+---------+----------+---------+---------+---------+---------+---+----------+-------+------+\n",
            "only showing top 20 rows\n",
            "\n"
          ]
        }
      ],
      "source": [
        "df.show()"
      ]
    },
    {
      "cell_type": "code",
      "execution_count": 5,
      "id": "f20ce2d8",
      "metadata": {
        "id": "f20ce2d8",
        "colab": {
          "base_uri": "https://localhost:8080/"
        },
        "outputId": "7e58370a-59e1-423f-e3d7-fd3fdac420f0"
      },
      "outputs": [
        {
          "output_type": "execute_result",
          "data": {
            "text/plain": [
              "['stock_id',\n",
              " 'date_id',\n",
              " 'seconds_in_bucket',\n",
              " 'imbalance_size',\n",
              " 'imbalance_buy_sell_flag',\n",
              " 'reference_price',\n",
              " 'matched_size',\n",
              " 'far_price',\n",
              " 'near_price',\n",
              " 'bid_price',\n",
              " 'bid_size',\n",
              " 'ask_price',\n",
              " 'ask_size',\n",
              " 'wap',\n",
              " 'target',\n",
              " 'time_id',\n",
              " 'row_id']"
            ]
          },
          "metadata": {},
          "execution_count": 5
        }
      ],
      "source": [
        "df.columns"
      ]
    },
    {
      "cell_type": "code",
      "execution_count": 6,
      "id": "a924a772",
      "metadata": {
        "id": "a924a772",
        "colab": {
          "base_uri": "https://localhost:8080/"
        },
        "outputId": "5a838052-c412-4905-bf8b-0b506bdfb629"
      },
      "outputs": [
        {
          "output_type": "stream",
          "name": "stdout",
          "text": [
            "root\n",
            " |-- stock_id: integer (nullable = true)\n",
            " |-- date_id: integer (nullable = true)\n",
            " |-- seconds_in_bucket: integer (nullable = true)\n",
            " |-- imbalance_size: double (nullable = true)\n",
            " |-- imbalance_buy_sell_flag: integer (nullable = true)\n",
            " |-- reference_price: double (nullable = true)\n",
            " |-- matched_size: double (nullable = true)\n",
            " |-- far_price: double (nullable = true)\n",
            " |-- near_price: double (nullable = true)\n",
            " |-- bid_price: double (nullable = true)\n",
            " |-- bid_size: double (nullable = true)\n",
            " |-- ask_price: double (nullable = true)\n",
            " |-- ask_size: double (nullable = true)\n",
            " |-- wap: double (nullable = true)\n",
            " |-- target: double (nullable = true)\n",
            " |-- time_id: integer (nullable = true)\n",
            " |-- row_id: string (nullable = true)\n",
            "\n"
          ]
        }
      ],
      "source": [
        "df.printSchema()"
      ]
    },
    {
      "cell_type": "markdown",
      "id": "3c375f39",
      "metadata": {
        "id": "3c375f39"
      },
      "source": [
        "There are **17** columns in the data. Column names and their data types:\n",
        "\n",
        "| Column Name             | Data Type   |\n",
        "|-------------------------|-------------|\n",
        "| stock_id                | integer     |\n",
        "| date_id                 | integer     |\n",
        "| seconds_in_bucket       | integer     |\n",
        "| imbalance_size          | double      |\n",
        "| imbalance_buy_sell_flag | integer     |\n",
        "| reference_price         | double      |\n",
        "| matched_size            | double      |\n",
        "| far_price               | double      |\n",
        "| near_price              | double      |\n",
        "| bid_price               | double      |\n",
        "| bid_size                | double      |\n",
        "| ask_price               | double      |\n",
        "| ask_size                | double      |\n",
        "| wap                     | double      |\n",
        "| target                  | double      |\n",
        "| time_id                 | integer     |\n",
        "| row_id                  | string      |\n"
      ]
    },
    {
      "cell_type": "code",
      "execution_count": 7,
      "id": "14a85dd8",
      "metadata": {
        "id": "14a85dd8",
        "colab": {
          "base_uri": "https://localhost:8080/"
        },
        "outputId": "727760ba-5778-4960-8232-321b11f68f61"
      },
      "outputs": [
        {
          "output_type": "stream",
          "name": "stdout",
          "text": [
            "Number of rows in the DataFrame: 5237980\n"
          ]
        }
      ],
      "source": [
        "# To count the number of rows in the DataFrame\n",
        "row_count = df.count()\n",
        "print(\"Number of rows in the DataFrame:\", row_count)"
      ]
    },
    {
      "cell_type": "code",
      "execution_count": 8,
      "id": "0fb89611",
      "metadata": {
        "id": "0fb89611",
        "colab": {
          "base_uri": "https://localhost:8080/"
        },
        "outputId": "af3e2498-d1e1-406f-c9d8-19023da3c5bb"
      },
      "outputs": [
        {
          "output_type": "stream",
          "name": "stdout",
          "text": [
            "+----------------+\n",
            "|Number_of_Stocks|\n",
            "+----------------+\n",
            "|             200|\n",
            "+----------------+\n",
            "\n"
          ]
        }
      ],
      "source": [
        "# Count distinct stock ids in csv\n",
        "spark.sql(\"select count(distinct(stock_id)) as Number_of_Stocks from train_csv\").show()\n",
        "\n",
        "\n"
      ]
    },
    {
      "cell_type": "code",
      "execution_count": 9,
      "id": "217df4d9",
      "metadata": {
        "id": "217df4d9"
      },
      "outputs": [],
      "source": [
        "from pyspark.sql.functions import col\n",
        "df_stock_id_0 = df.filter((col(\"stock_id\")==0) & (col(\"date_id\")==0))"
      ]
    },
    {
      "cell_type": "code",
      "execution_count": 10,
      "id": "9b16fe75",
      "metadata": {
        "id": "9b16fe75",
        "colab": {
          "base_uri": "https://localhost:8080/"
        },
        "outputId": "a3eac31b-58e7-4c0d-855c-dc51f9ce4428"
      },
      "outputs": [
        {
          "output_type": "execute_result",
          "data": {
            "text/plain": [
              "55"
            ]
          },
          "metadata": {},
          "execution_count": 10
        }
      ],
      "source": [
        "df_stock_id_0.count()"
      ]
    },
    {
      "cell_type": "code",
      "execution_count": 11,
      "id": "51ff415e",
      "metadata": {
        "id": "51ff415e",
        "colab": {
          "base_uri": "https://localhost:8080/"
        },
        "outputId": "92b06397-7814-434b-c0c3-1c3499852de5"
      },
      "outputs": [
        {
          "output_type": "stream",
          "name": "stdout",
          "text": [
            "+--------------+\n",
            "|Number_of_Days|\n",
            "+--------------+\n",
            "|           481|\n",
            "+--------------+\n",
            "\n"
          ]
        }
      ],
      "source": [
        "# Count distinct dates. This gives us number of days the data spans\n",
        "spark.sql(\"select count(distinct(date_id)) as Number_of_Days from train_csv\").show()\n",
        "\n"
      ]
    },
    {
      "cell_type": "markdown",
      "id": "f4877292",
      "metadata": {
        "id": "f4877292"
      },
      "source": [
        "### Data understanding:\n",
        "Number of stocks in data = 200 og\n",
        "\n",
        "Number of days for which data is captured = 481\n",
        "\n",
        "For each stock each day, number of data points = 55\n",
        "\n",
        "Rows = 5237980  , Columns = 17"
      ]
    },
    {
      "cell_type": "markdown",
      "id": "10fafcac",
      "metadata": {
        "id": "10fafcac"
      },
      "source": [
        "## Data Cleaning\n",
        "\n",
        "We start off by analysing null values in our data and fixing it."
      ]
    },
    {
      "cell_type": "code",
      "execution_count": 12,
      "id": "97eaf487",
      "metadata": {
        "id": "97eaf487",
        "colab": {
          "base_uri": "https://localhost:8080/"
        },
        "outputId": "f17e87c0-d8dc-4df7-c818-287879a5d1b9"
      },
      "outputs": [
        {
          "output_type": "stream",
          "name": "stdout",
          "text": [
            "Columns with non-zero null values:\n",
            "imbalance_size: 220 null values\n",
            "reference_price: 220 null values\n",
            "matched_size: 220 null values\n",
            "far_price: 2894342 null values\n",
            "near_price: 2857180 null values\n",
            "bid_price: 220 null values\n",
            "ask_price: 220 null values\n",
            "wap: 220 null values\n"
          ]
        }
      ],
      "source": [
        "from pyspark.sql.functions import col\n",
        "\n",
        "# Create a list of columns and their respective null counts\n",
        "null_counts = [df.where(col(c).isNull()).count() for c in df.columns]\n",
        "\n",
        "# Create a dictionary to map column names to their null counts\n",
        "columns_with_nulls = {col: count for col, count in zip(df.columns, null_counts) if count > 0}\n",
        "\n",
        "# Display columns with non-zero null values\n",
        "print(\"Columns with non-zero null values:\")\n",
        "for col, count in columns_with_nulls.items():\n",
        "    print(f\"{col}: {count} null values\")\n",
        "\n"
      ]
    },
    {
      "cell_type": "code",
      "execution_count": 13,
      "id": "8ed96227",
      "metadata": {
        "id": "8ed96227",
        "colab": {
          "base_uri": "https://localhost:8080/"
        },
        "outputId": "c5322003-8487-427c-a87a-6bcfad71d449"
      },
      "outputs": [
        {
          "output_type": "stream",
          "name": "stdout",
          "text": [
            "Data where ask_price is null:\n",
            "+--------+-------+--------+\n",
            "|stock_id|date_id|count(1)|\n",
            "+--------+-------+--------+\n",
            "|     131|     35|      55|\n",
            "|     158|    388|      55|\n",
            "|     101|    328|      55|\n",
            "|      19|    438|      55|\n",
            "+--------+-------+--------+\n",
            "\n",
            "Data where bid_price is null:\n",
            "+--------+-------+--------+\n",
            "|stock_id|date_id|count(1)|\n",
            "+--------+-------+--------+\n",
            "|     131|     35|      55|\n",
            "|     158|    388|      55|\n",
            "|     101|    328|      55|\n",
            "|      19|    438|      55|\n",
            "+--------+-------+--------+\n",
            "\n",
            "Data where imbalance_size is null:\n",
            "+--------+-------+--------+\n",
            "|stock_id|date_id|count(1)|\n",
            "+--------+-------+--------+\n",
            "|     131|     35|      55|\n",
            "|     158|    388|      55|\n",
            "|     101|    328|      55|\n",
            "|      19|    438|      55|\n",
            "+--------+-------+--------+\n",
            "\n",
            "Data where reference_price is null:\n",
            "+--------+-------+--------+\n",
            "|stock_id|date_id|count(1)|\n",
            "+--------+-------+--------+\n",
            "|     131|     35|      55|\n",
            "|     158|    388|      55|\n",
            "|     101|    328|      55|\n",
            "|      19|    438|      55|\n",
            "+--------+-------+--------+\n",
            "\n",
            "Data where matched_size is null:\n",
            "+--------+-------+--------+\n",
            "|stock_id|date_id|count(1)|\n",
            "+--------+-------+--------+\n",
            "|     131|     35|      55|\n",
            "|     158|    388|      55|\n",
            "|     101|    328|      55|\n",
            "|      19|    438|      55|\n",
            "+--------+-------+--------+\n",
            "\n",
            "Data where wap is null:\n",
            "+--------+-------+--------+\n",
            "|stock_id|date_id|count(1)|\n",
            "+--------+-------+--------+\n",
            "|     131|     35|      55|\n",
            "|     158|    388|      55|\n",
            "|     101|    328|      55|\n",
            "|      19|    438|      55|\n",
            "+--------+-------+--------+\n",
            "\n"
          ]
        }
      ],
      "source": [
        "#Analyse null values in the dataset\n",
        "print('Data where ask_price is null:')\n",
        "spark.sql(\"select stock_id, date_id, count(*) from train_csv where ask_price is null group by stock_id, date_id\").show()\n",
        "print('Data where bid_price is null:')\n",
        "spark.sql(\"select stock_id, date_id, count(*) from train_csv where bid_price is null group by stock_id, date_id\").show()\n",
        "print('Data where imbalance_size is null:')\n",
        "spark.sql(\"select stock_id, date_id, count(*) from train_csv where imbalance_size is null group by stock_id, date_id\").show()\n",
        "print('Data where reference_price is null:')\n",
        "spark.sql(\"select stock_id, date_id, count(*) from train_csv where reference_price is null group by stock_id, date_id\").show()\n",
        "print('Data where matched_size is null:')\n",
        "spark.sql(\"select stock_id, date_id, count(*) from train_csv where matched_size is null group by stock_id, date_id\").show()\n",
        "print('Data where wap is null:')\n",
        "spark.sql(\"select stock_id, date_id, count(*) from train_csv where wap is null group by stock_id, date_id\").show()\n"
      ]
    },
    {
      "cell_type": "markdown",
      "id": "10254dc4",
      "metadata": {
        "id": "10254dc4"
      },
      "source": [
        "It can be seen that for stock_ids **131,158,101 and 19** we dont have any values for **reference_price**, **matched_size**, **bid_price**, **bid_size**,**ask_price**, **wap**, **target**.\n",
        "\n",
        "\n",
        "\n",
        "\n"
      ]
    },
    {
      "cell_type": "code",
      "execution_count": 14,
      "id": "8a6517d4",
      "metadata": {
        "id": "8a6517d4",
        "colab": {
          "base_uri": "https://localhost:8080/"
        },
        "outputId": "986d0c5a-a989-4242-a2b8-1e03dac23fac"
      },
      "outputs": [
        {
          "output_type": "stream",
          "name": "stdout",
          "text": [
            "+--------+-------+-----------------+--------------+-----------------------+---------------+-------------+---------+----------+---------+--------+---------+--------+--------+-----------+-------+--------+\n",
            "|stock_id|date_id|seconds_in_bucket|imbalance_size|imbalance_buy_sell_flag|reference_price| matched_size|far_price|near_price|bid_price|bid_size|ask_price|ask_size|     wap|     target|time_id|  row_id|\n",
            "+--------+-------+-----------------+--------------+-----------------------+---------------+-------------+---------+----------+---------+--------+---------+--------+--------+-----------+-------+--------+\n",
            "|      12|      0|                0| 1.173994544E7|                      1|       0.999794| 1.35971187E7|     NULL|      NULL| 0.999794| 33221.0| 1.000296| 47824.0|     1.0|   8.399487|      0|  0_0_12|\n",
            "|      12|      0|               10| 1.019305804E7|                      1|       1.000882|1.512392596E7|     NULL|      NULL| 1.000673| 1674.47| 1.000965| 5503.44|1.000741|   4.990101|      1| 0_10_12|\n",
            "|      12|      0|               20| 1.016819692E7|                      1|       1.001007|1.512392596E7|     NULL|      NULL| 1.000965|17467.44| 1.001007|13878.82|1.000989|   9.189844|      2| 0_20_12|\n",
            "|      12|      0|               30| 1.016819692E7|                      1|       1.001133|1.512392596E7|     NULL|      NULL| 1.001007| 5025.09|   1.0013|29441.28| 1.00105|   8.020401|      3| 0_30_12|\n",
            "|      12|      0|               40|    9954725.98|                      1|       1.001216| 1.53373969E7|     NULL|      NULL| 1.001091| 5504.13| 1.001258|23216.95|1.001123|   7.699728|      4| 0_40_12|\n",
            "|      12|      0|               50|    9964287.95|                      1|       1.001426| 1.53373969E7|     NULL|      NULL|   1.0013|24414.72| 1.001426|49793.12|1.001341|  2.1898746|      5| 0_50_12|\n",
            "|      12|      0|               60|    9964287.95|                      1|        1.00176| 1.53373969E7|     NULL|      NULL| 1.001593|16041.81|  1.00176| 23947.0| 1.00166|-0.87976456|      6| 0_60_12|\n",
            "|      12|      0|               70|    9966200.34|                      1|        1.00176|1.534576362E7|     NULL|      NULL| 1.001677| 38790.9| 1.001802|51967.16| 1.00173| 0.23007393|      7| 0_70_12|\n",
            "|      12|      0|               80|    9985563.33|                      1|       1.001844|1.534576362E7|     NULL|      NULL|  1.00176| 23947.0| 1.001886| 70173.5|1.001792| -4.7701597|      8| 0_80_12|\n",
            "|      12|      0|               90|    9983411.89|                      1|        1.00176|1.534791506E7|     NULL|      NULL| 1.001635|  2394.4| 1.001802|24666.44| 1.00165| -2.3502111|      9| 0_90_12|\n",
            "|      12|      0|              100|  1.01748903E7|                      1|       1.001551|1.534791506E7|     NULL|      NULL| 1.001384| 23938.0| 1.001551| 5267.24|1.001521|  -4.249811|     10|0_100_12|\n",
            "|      12|      0|              110|  1.01748903E7|                      1|       1.001258|1.534791506E7|     NULL|      NULL| 1.001091| 8854.47|   1.0013| 95744.0|1.001109|   1.399517|     11|0_110_12|\n",
            "|      12|      0|              120| 1.044740639E7|                      1|       1.001049|1.534791506E7|     NULL|      NULL| 1.000965| 1435.68| 1.001091| 47862.0|1.000969|  1.8703938|     12|0_120_12|\n",
            "|      12|      0|              130| 1.044740639E7|                      1|       1.001175|1.534791506E7|     NULL|      NULL| 1.001049|  1196.5| 1.001175|44994.04|1.001052|  1.4805794|     13|0_130_12|\n",
            "|      12|      0|              140| 1.044740639E7|                      1|       1.001091|1.534791506E7|     NULL|      NULL| 1.000965|26560.08| 1.001091| 23931.0|1.001031|  1.2505054|     14|0_140_12|\n",
            "|      12|      0|              150| 1.065753064E7|                      1|       1.001216|1.542417176E7|     NULL|      NULL| 1.001049|  5264.6| 1.001216|  239.34|1.001209|-0.18000603|     15|0_150_12|\n",
            "|      12|      0|              160| 1.068239176E7|                      1|       1.000798|1.542417176E7|     NULL|      NULL| 1.000631|   478.4| 1.000798| 23924.0|1.000634| -0.6699562|     16|0_160_12|\n",
            "|      12|      0|              170| 1.068239176E7|                      1|       1.000673|1.542417176E7|     NULL|      NULL| 1.000547| 26309.8| 1.000714| 2870.64|1.000698| -2.6202202|     17|0_170_12|\n",
            "|      12|      0|              180| 1.166512303E7|                      1|       1.000756|1.575884064E7|     NULL|      NULL| 1.000673| 2152.89| 1.001007| 23929.0|  1.0007| -2.9999018|     18|0_180_12|\n",
            "|      12|      0|              190| 1.117865791E7|                      1|       1.001007|1.622044466E7|     NULL|      NULL| 1.000882| 7895.58| 1.001007|82076.47|1.000893|  -7.749796|     19|0_190_12|\n",
            "+--------+-------+-----------------+--------------+-----------------------+---------------+-------------+---------+----------+---------+--------+---------+--------+--------+-----------+-------+--------+\n",
            "only showing top 20 rows\n",
            "\n"
          ]
        }
      ],
      "source": [
        "from pyspark.sql import SparkSession\n",
        "from pyspark.sql import functions as F\n",
        "from pyspark.sql.window import Window\n",
        "\n",
        "# Assuming you already have a SparkSession named spark and your DataFrame is named df\n",
        "\n",
        "# Define the window specification\n",
        "window_spec = Window.partitionBy(\"stock_id\").orderBy(\"date_id\", \"seconds_in_bucket\").rowsBetween(Window.unboundedPreceding, 0)\n",
        "\n",
        "# Define columns to fill\n",
        "# columns_to_fill = [\"imbalance_size\", \"reference_price\", \"matched_size\", \"bid_price\", \"ask_price\", \"wap\"]. #orginal line\n",
        "columns_to_fill = [\"imbalance_size\", \"reference_price\", \"matched_size\", \"bid_price\", \"ask_price\", \"wap\"] #modified line\n",
        "\n",
        "# Apply backward fill for each column\n",
        "for column in columns_to_fill:\n",
        "    df = df.withColumn(column, F.last(column, True).over(window_spec))\n",
        "\n",
        "# Show the DataFrame after filling null values\n",
        "df.show()\n"
      ]
    },
    {
      "cell_type": "markdown",
      "id": "54132318",
      "metadata": {
        "id": "54132318"
      },
      "source": [
        "## Fixing Null Values"
      ]
    },
    {
      "cell_type": "code",
      "execution_count": 15,
      "id": "ef32b2bd",
      "metadata": {
        "id": "ef32b2bd",
        "colab": {
          "base_uri": "https://localhost:8080/"
        },
        "outputId": "622295ff-063b-4106-d564-a87684fee352"
      },
      "outputs": [
        {
          "output_type": "stream",
          "name": "stdout",
          "text": [
            "Columns with non-zero null values:\n",
            "far_price: 2894342 null values\n",
            "near_price: 2857180 null values\n"
          ]
        }
      ],
      "source": [
        "from pyspark.sql.functions import col\n",
        "# Create a list of columns and their respective null counts\n",
        "null_counts = [df.where(col(c).isNull()).count() for c in df.columns]\n",
        "\n",
        "# Create a dictionary to map column names to their null counts\n",
        "columns_with_nulls = {col: count for col, count in zip(df.columns, null_counts) if count > 0}\n",
        "\n",
        "# Display columns with non-zero null values\n",
        "print(\"Columns with non-zero null values:\")\n",
        "for col, count in columns_with_nulls.items():\n",
        "    print(f\"{col}: {count} null values\")"
      ]
    },
    {
      "cell_type": "code",
      "execution_count": 18,
      "id": "78c58df4",
      "metadata": {
        "id": "78c58df4",
        "colab": {
          "base_uri": "https://localhost:8080/"
        },
        "outputId": "33c5af14-35a1-4159-f9d1-9ad0c30779dc"
      },
      "outputs": [
        {
          "output_type": "stream",
          "name": "stdout",
          "text": [
            "+--------+-------+-----------------+--------------+-----------------------+---------------+-------------+---------+----------+---------+---------+---------+---------+--------+-----------+-------+--------+\n",
            "|stock_id|date_id|seconds_in_bucket|imbalance_size|imbalance_buy_sell_flag|reference_price| matched_size|far_price|near_price|bid_price| bid_size|ask_price| ask_size|     wap|     target|time_id|  row_id|\n",
            "+--------+-------+-----------------+--------------+-----------------------+---------------+-------------+---------+----------+---------+---------+---------+---------+--------+-----------+-------+--------+\n",
            "|      12|      0|                0| 1.173994544E7|                      1|       0.999794| 1.35971187E7|      0.0|       0.0| 0.999794|  33221.0| 1.000296|  47824.0|     1.0|   8.399487|      0|  0_0_12|\n",
            "|      12|      0|               10| 1.019305804E7|                      1|       1.000882|1.512392596E7|      0.0|       0.0| 1.000673|  1674.47| 1.000965|  5503.44|1.000741|   4.990101|      1| 0_10_12|\n",
            "|      12|      0|               20| 1.016819692E7|                      1|       1.001007|1.512392596E7|      0.0|       0.0| 1.000965| 17467.44| 1.001007| 13878.82|1.000989|   9.189844|      2| 0_20_12|\n",
            "|      12|      0|               30| 1.016819692E7|                      1|       1.001133|1.512392596E7|      0.0|       0.0| 1.001007|  5025.09|   1.0013| 29441.28| 1.00105|   8.020401|      3| 0_30_12|\n",
            "|      12|      0|               40|    9954725.98|                      1|       1.001216| 1.53373969E7|      0.0|       0.0| 1.001091|  5504.13| 1.001258| 23216.95|1.001123|   7.699728|      4| 0_40_12|\n",
            "|      12|      0|               50|    9964287.95|                      1|       1.001426| 1.53373969E7|      0.0|       0.0|   1.0013| 24414.72| 1.001426| 49793.12|1.001341|  2.1898746|      5| 0_50_12|\n",
            "|      12|      0|               60|    9964287.95|                      1|        1.00176| 1.53373969E7|      0.0|       0.0| 1.001593| 16041.81|  1.00176|  23947.0| 1.00166|-0.87976456|      6| 0_60_12|\n",
            "|      12|      0|               70|    9966200.34|                      1|        1.00176|1.534576362E7|      0.0|       0.0| 1.001677|  38790.9| 1.001802| 51967.16| 1.00173| 0.23007393|      7| 0_70_12|\n",
            "|      12|      0|               80|    9985563.33|                      1|       1.001844|1.534576362E7|      0.0|       0.0|  1.00176|  23947.0| 1.001886|  70173.5|1.001792| -4.7701597|      8| 0_80_12|\n",
            "|      12|      0|               90|    9983411.89|                      1|        1.00176|1.534791506E7|      0.0|       0.0| 1.001635|   2394.4| 1.001802| 24666.44| 1.00165| -2.3502111|      9| 0_90_12|\n",
            "|      12|      0|              100|  1.01748903E7|                      1|       1.001551|1.534791506E7|      0.0|       0.0| 1.001384|  23938.0| 1.001551|  5267.24|1.001521|  -4.249811|     10|0_100_12|\n",
            "|      12|      0|              110|  1.01748903E7|                      1|       1.001258|1.534791506E7|      0.0|       0.0| 1.001091|  8854.47|   1.0013|  95744.0|1.001109|   1.399517|     11|0_110_12|\n",
            "|      12|      0|              120| 1.044740639E7|                      1|       1.001049|1.534791506E7|      0.0|       0.0| 1.000965|  1435.68| 1.001091|  47862.0|1.000969|  1.8703938|     12|0_120_12|\n",
            "|      12|      0|              130| 1.044740639E7|                      1|       1.001175|1.534791506E7|      0.0|       0.0| 1.001049|   1196.5| 1.001175| 44994.04|1.001052|  1.4805794|     13|0_130_12|\n",
            "|      12|      0|              140| 1.044740639E7|                      1|       1.001091|1.534791506E7|      0.0|       0.0| 1.000965| 26560.08| 1.001091|  23931.0|1.001031|  1.2505054|     14|0_140_12|\n",
            "|      12|      0|              150| 1.065753064E7|                      1|       1.001216|1.542417176E7|      0.0|       0.0| 1.001049|   5264.6| 1.001216|   239.34|1.001209|-0.18000603|     15|0_150_12|\n",
            "|      12|      0|              160| 1.068239176E7|                      1|       1.000798|1.542417176E7|      0.0|       0.0| 1.000631|    478.4| 1.000798|  23924.0|1.000634| -0.6699562|     16|0_160_12|\n",
            "|      12|      0|              170| 1.068239176E7|                      1|       1.000673|1.542417176E7|      0.0|       0.0| 1.000547|  26309.8| 1.000714|  2870.64|1.000698| -2.6202202|     17|0_170_12|\n",
            "|      12|      0|              180| 1.166512303E7|                      1|       1.000756|1.575884064E7|      0.0|       0.0| 1.000673|  2152.89| 1.001007|  23929.0|  1.0007| -2.9999018|     18|0_180_12|\n",
            "|      12|      0|              190| 1.117865791E7|                      1|       1.001007|1.622044466E7|      0.0|       0.0| 1.000882|  7895.58| 1.001007| 82076.47|1.000893|  -7.749796|     19|0_190_12|\n",
            "|      12|      0|              200| 1.120351902E7|                      1|       1.000882|1.622044466E7|      0.0|       0.0| 1.000756| 47128.31| 1.000882|113887.76|1.000793| -4.2301416|     20|0_200_12|\n",
            "|      12|      0|              210| 1.120901715E7|                      1|        1.00084|1.622044466E7|      0.0|       0.0| 1.000756| 28946.83|  1.00084|  23925.0|1.000802|-0.29027462|     21|0_210_12|\n",
            "|      12|      0|              220| 1.100678153E7|                      1|       1.000714|1.642268028E7|      0.0|       0.0| 1.000589|   717.57| 1.000798|  23924.0|1.000595|  1.2803078|     22|0_220_12|\n",
            "|      12|      0|              230| 1.115594823E7|                      1|       1.000756|1.642268028E7|      0.0|       0.0| 1.000631|    478.4| 1.000756| 63874.41|1.000632|-0.30994415|     23|0_230_12|\n",
            "|      12|      0|              240|    9042992.32|                      1|       1.000714|1.950163402E7|      0.0|       0.0| 1.000631|   1674.4| 1.000714| 62436.42|1.000633|  3.2401085|     24|0_240_12|\n",
            "|      12|      0|              250|    9302121.66|                      1|       1.000338|1.927286394E7|      0.0|       0.0| 1.000212|   7651.2| 1.000422|  23915.0|1.000263|  10.479689|     25|0_250_12|\n",
            "|      12|      0|              260| 1.252665636E7|                      1|       1.000296|1.929318312E7|      0.0|       0.0| 1.000338|   717.39| 1.000631|  29182.4|1.000345|  10.980368|     26|0_260_12|\n",
            "|      12|      0|              270| 1.163834952E7|                      1|       1.000882|1.952673419E7|      0.0|       0.0| 1.000756|   239.23| 1.001049|   5264.6|1.000769|  6.8199635|     27|0_270_12|\n",
            "|      12|      0|              280| 1.217907882E7|                      1|        1.00084|2.152877127E7|      0.0|       0.0| 1.000798|  2153.16| 1.000924|  23927.0|1.000809|   8.109808|     28|0_280_12|\n",
            "|      12|      0|              290| 1.184249754E7|                      1|       1.001175|2.445090873E7|      0.0|       0.0| 1.001049|   7418.3| 1.001216|  23934.0|1.001089|  11.730194|     29|0_290_12|\n",
            "|      12|      0|              300|  1.07005595E7|                      1|       1.001342|3.378267249E7| 1.025354|  1.017531| 1.001175|  2632.63| 1.001342|  1196.85| 1.00129|   9.030104|     30|0_300_12|\n",
            "|      12|      0|              310| 1.056573575E7|                      1|       1.001593|3.391749624E7|  1.02481|   1.01682| 1.001384| 91682.54| 1.001677|  11014.7|1.001645|  3.4201145|     31|0_310_12|\n",
            "|      12|      0|              320|    9403956.62|                      1|       1.002011|3.507927537E7|  1.01979|  1.014226| 1.001844|202369.05| 1.002053|  8144.36|1.002045| -2.0301342|     32|0_320_12|\n",
            "|      12|      0|              330|    9252638.47|                      1|       1.002053|3.523059352E7| 1.019539|  1.012804| 1.001969|  29940.0| 1.002053|   5988.5|1.002039|   -4.43995|     33|0_330_12|\n",
            "|      12|      0|              340|    9137177.71|                      1|       1.001969|3.534605428E7| 1.018786|  1.013264| 1.001928| 70655.45| 1.002011|   239.53|1.002011| -5.0997734|     34|0_340_12|\n",
            "|      12|      0|              350|    9137177.71|                      1|       1.002053|3.534605428E7| 1.018786|  1.012804| 1.001886|  51013.5| 1.002053|   3593.1|1.002042|  -6.890297|     35|0_350_12|\n",
            "|      12|      0|              360|    9137177.71|                      1|       1.002137|3.534605428E7| 1.018786|  1.012804| 1.002011| 34252.79| 1.002179|136075.76|1.002045|  -3.799796|     36|0_360_12|\n",
            "|      12|      0|              370|     9064267.7|                      1|       1.001969|3.541896429E7| 1.018786|  1.012762| 1.001886|  51492.5| 1.002011|  5030.13|   1.002| 0.07033348|     37|0_370_12|\n",
            "|      12|      0|              380|     9064267.7|                      1|       1.001844|3.541896429E7| 1.018786|  1.012344| 1.001802|  25145.4| 1.001886|  52211.0|1.001829|  1.4901161|     38|0_380_12|\n",
            "|      12|      0|              390|    9057813.37|                      1|       1.001802|3.542541862E7| 1.018786|  1.012344| 1.001718|145112.76| 1.001844| 62746.38|1.001806| 0.72956085|     39|0_390_12|\n",
            "|      12|      0|              400|    9032952.25|                      1|       1.001844|3.545027974E7| 1.018786|  1.012344|  1.00176| 56035.98| 1.001844|169558.92|1.001781|  1.3303757|     40|0_400_12|\n",
            "|      12|      0|              410|    8961237.49|                      1|       1.001718| 3.55219945E7| 1.018535|  1.012302| 1.001677| 98892.85|  1.00176| 78306.69|1.001723|  1.0502338|     41|0_410_12|\n",
            "|      12|      0|              420|    8865139.71|                      1|       1.001844|3.561809228E7| 1.018033|  1.012344|  1.00176| 85490.79| 1.001844|116631.63|1.001796| -1.6200542|     42|0_420_12|\n",
            "|      12|      0|              430|    8865139.71|                      1|       1.002095|3.561809228E7| 1.018033|  1.012804| 1.002011| 96530.59| 1.002095| 24673.65|1.002078|  -1.180172|     43|0_430_12|\n",
            "|      12|      0|              440|    8865139.71|                      1|       1.002095|3.561809228E7| 1.018033|  1.012344| 1.002053|185164.42| 1.002137| 55338.36|1.002118| 0.61035156|     44|0_440_12|\n",
            "|      12|      0|              450|     8852948.2|                      1|       1.002137|3.563028379E7| 1.018033|  1.012344| 1.002053|  8862.98| 1.002137| 37371.36|1.002069|   3.900528|     45|0_450_12|\n",
            "|      12|      0|              460|     8852948.2|                      1|       1.002137|3.563028379E7| 1.012762|  1.006487| 1.002053|  15570.1| 1.002137| 74024.04|1.002068|  4.5502186|     46|0_460_12|\n",
            "|      12|      0|              470|     4127662.6|                      1|       1.002011|4.035556939E7| 1.005567|  1.003266| 1.002011| 70661.35| 1.002095|134866.65| 1.00204|  7.4899197|     47|0_470_12|\n",
            "|      12|      0|              480|    1038429.74|                      1|       1.002137|4.344480225E7| 1.002932|  1.002304| 1.002053| 88390.26| 1.002137|  2874.72|1.002134|  6.8199635|     48|0_480_12|\n",
            "|      12|      0|              490|     132194.21|                      1|       1.002346| 4.37316613E7| 1.002932|  1.002388| 1.002179|152845.66| 1.002388| 75719.92|1.002318|  3.0696392|     49|0_490_12|\n",
            "|      12|      0|              500|     108289.29|                      1|       1.002681|4.375556622E7| 1.002932|  1.002681| 1.002513|  56557.4| 1.002722|  63760.2|1.002612|  1.4901161|     50|0_500_12|\n",
            "|      12|      0|              510|      84384.37|                      1|       1.002722|4.377947114E7| 1.002932|  1.002722| 1.002639| 167776.0| 1.002722| 101632.8|1.002691|  1.2600422|     51|0_510_12|\n",
            "|      12|      0|              520|      84384.37|                      1|       1.002806|4.377947114E7| 1.002932|  1.002848| 1.002681| 78138.94|  1.00289|  79114.2|1.002785|   4.620552|     52|0_520_12|\n",
            "|      12|      0|              530|      84384.37|                      1|       1.002848|4.377947114E7| 1.002932|   1.00289| 1.002764| 63043.73| 1.002932|  35003.5|1.002872| 0.25987625|     53|0_530_12|\n",
            "|      12|      0|              540|      84384.37|                      1|        1.00289|4.377947114E7| 1.002932|  1.002932| 1.002722| 168748.8|  1.00289|  47948.0|1.002853|  -1.270175|     54|0_540_12|\n",
            "|      12|      1|                0|     3078462.9|                     -1|       0.999924|2.804656488E7|      0.0|       0.0| 0.999883| 13409.55| 1.000088|  9998.26|     1.0|  -3.439784|     55|  1_0_12|\n",
            "|      12|      1|               10|    2863153.38|                     -1|       0.999842|2.829723101E7|      0.0|       0.0| 0.999842|  34132.0| 0.999924|   975.28|0.999921|  -7.740259|     56| 1_10_12|\n",
            "|      12|      1|               20|    3537611.07|                     -1|         0.9998|2.833356297E7|      0.0|       0.0|   0.9998|  24379.0| 0.999965|   7314.9|0.999927|  -9.769797|     57| 1_20_12|\n",
            "|      12|      1|               30|    3537611.07|                     -1|         0.9998|2.833356297E7|      0.0|       0.0| 0.999759| 75084.24| 0.999842|   7314.0|0.999834|  -8.029938|     58| 1_30_12|\n",
            "|      12|      1|               40|    3537611.07|                     -1|       0.999636|2.833356297E7|      0.0|       0.0| 0.999636|  24375.0| 0.999759|102631.38| 0.99966|  -4.990101|     59| 1_40_12|\n",
            "+--------+-------+-----------------+--------------+-----------------------+---------------+-------------+---------+----------+---------+---------+---------+---------+--------+-----------+-------+--------+\n",
            "only showing top 60 rows\n",
            "\n"
          ]
        }
      ],
      "source": [
        "# Fill remaining null values in \"far_price\" and \"near_price\" with 0\n",
        "df = df.fillna(0, subset=[\"far_price\", \"near_price\"])\n",
        "\n",
        "# Show the first 60 rows of the DataFrame after filling all null values\n",
        "df.show(60)\n"
      ]
    },
    {
      "cell_type": "code",
      "execution_count": 16,
      "id": "51ddd4e7",
      "metadata": {
        "id": "51ddd4e7",
        "colab": {
          "base_uri": "https://localhost:8080/"
        },
        "outputId": "6d0bdfca-bcbe-4efe-bdde-1e1fffc79102"
      },
      "outputs": [
        {
          "output_type": "stream",
          "name": "stdout",
          "text": [
            "Data where near_price is null:\n",
            "+--------+-------+---------------------+\n",
            "|stock_id|date_id|Number_of_null_values|\n",
            "+--------+-------+---------------------+\n",
            "|     196|      0|                   30|\n",
            "|      92|      2|                   30|\n",
            "|     162|      3|                   30|\n",
            "|      71|      4|                   30|\n",
            "|      43|      7|                   30|\n",
            "|     163|      7|                   30|\n",
            "|      92|      8|                   30|\n",
            "|     179|      8|                   30|\n",
            "|      39|     11|                   30|\n",
            "|      83|     11|                   30|\n",
            "|     137|     11|                   30|\n",
            "|      61|     13|                   30|\n",
            "|     154|     13|                   30|\n",
            "|      15|     14|                   30|\n",
            "|     155|     14|                   30|\n",
            "|     114|     15|                   30|\n",
            "|      28|     16|                   30|\n",
            "|     128|     21|                   30|\n",
            "|       3|     22|                   30|\n",
            "|      77|     23|                   30|\n",
            "|      47|     24|                   30|\n",
            "|      89|     25|                   30|\n",
            "|      15|     26|                   30|\n",
            "|      32|     26|                   30|\n",
            "|      56|     26|                   30|\n",
            "|     126|     26|                   30|\n",
            "|     158|     27|                   30|\n",
            "|     170|     27|                   30|\n",
            "|      56|     30|                   30|\n",
            "|      47|     32|                   30|\n",
            "|      58|     32|                   30|\n",
            "|      58|     34|                   30|\n",
            "|     196|     34|                   30|\n",
            "|     115|     36|                   30|\n",
            "|     183|     36|                   30|\n",
            "|      33|     37|                   30|\n",
            "|     147|     37|                   30|\n",
            "|     184|     37|                   30|\n",
            "|     100|     38|                   30|\n",
            "|     139|     40|                   30|\n",
            "|     120|     43|                   30|\n",
            "|      35|     45|                   30|\n",
            "|     195|     46|                   30|\n",
            "|      64|     48|                   30|\n",
            "|      49|     49|                   30|\n",
            "|      53|     49|                   30|\n",
            "|      65|     50|                   30|\n",
            "|      84|     51|                   30|\n",
            "|     137|     51|                   30|\n",
            "|       8|     52|                   30|\n",
            "|     173|     53|                   30|\n",
            "|      96|     54|                   30|\n",
            "|     198|     54|                   30|\n",
            "|       7|     55|                   30|\n",
            "|       3|     57|                   30|\n",
            "|      68|     57|                   30|\n",
            "|      52|     58|                   30|\n",
            "|     148|     59|                   30|\n",
            "|      25|     61|                   30|\n",
            "|     130|     62|                   30|\n",
            "|      28|     63|                   30|\n",
            "|      90|     64|                   30|\n",
            "|     198|     90|                   30|\n",
            "|     134|     95|                   30|\n",
            "|     126|     52|                   30|\n",
            "|      22|     53|                   30|\n",
            "|      91|     64|                   30|\n",
            "|      27|     65|                   30|\n",
            "|     121|     66|                   30|\n",
            "|     113|     67|                   30|\n",
            "|      18|     68|                   30|\n",
            "|     166|     70|                   30|\n",
            "|     126|     73|                   30|\n",
            "|     159|     76|                   30|\n",
            "|      32|     79|                   30|\n",
            "|     118|     79|                   30|\n",
            "|       2|     80|                   30|\n",
            "|     157|     80|                   30|\n",
            "|     162|     80|                   30|\n",
            "|      58|     81|                   30|\n",
            "|      63|     81|                   30|\n",
            "|      36|     83|                   30|\n",
            "|      60|     84|                   30|\n",
            "|      10|     85|                   30|\n",
            "|     166|     85|                   30|\n",
            "|     147|     86|                   30|\n",
            "|     190|     86|                   30|\n",
            "|      62|     87|                   30|\n",
            "|       3|     89|                   30|\n",
            "|      57|     91|                   30|\n",
            "|     139|     91|                   30|\n",
            "|      58|     93|                   30|\n",
            "|     159|     93|                   30|\n",
            "|     150|     94|                   30|\n",
            "|      18|     95|                   30|\n",
            "|      42|     96|                   30|\n",
            "|      75|     97|                   30|\n",
            "|      73|     98|                   30|\n",
            "|      43|    100|                   30|\n",
            "|      89|    100|                   30|\n",
            "|     169|    100|                   30|\n",
            "|      41|    103|                   30|\n",
            "|      53|    103|                   30|\n",
            "|     147|    105|                   30|\n",
            "|      62|      1|                   30|\n",
            "|     105|      1|                   30|\n",
            "|     108|      1|                   30|\n",
            "|     118|      1|                   30|\n",
            "|     185|      1|                   30|\n",
            "|      10|      2|                   30|\n",
            "|     192|      2|                   30|\n",
            "|      41|      3|                   30|\n",
            "|     104|      5|                   30|\n",
            "|      23|      6|                   30|\n",
            "|      48|      6|                   30|\n",
            "|      59|      7|                   30|\n",
            "|      33|      8|                   30|\n",
            "|      86|     10|                   30|\n",
            "|      57|     12|                   30|\n",
            "|     140|     13|                   30|\n",
            "|       3|     15|                   30|\n",
            "|     165|     15|                   30|\n",
            "|     113|     16|                   30|\n",
            "|     181|     16|                   30|\n",
            "|     152|     17|                   30|\n",
            "|      30|     18|                   30|\n",
            "|     167|     18|                   30|\n",
            "|     184|     18|                   30|\n",
            "|     103|     19|                   30|\n",
            "|      92|     21|                   30|\n",
            "|      32|     27|                   30|\n",
            "|      62|     27|                   30|\n",
            "|      75|     27|                   30|\n",
            "|     113|     27|                   30|\n",
            "|      93|     28|                   30|\n",
            "|     185|     28|                   30|\n",
            "|      93|     29|                   30|\n",
            "|       3|     30|                   30|\n",
            "|      94|     32|                   30|\n",
            "|     183|     32|                   30|\n",
            "|      17|     33|                   30|\n",
            "|      22|     33|                   30|\n",
            "|     196|     35|                   30|\n",
            "|     113|     36|                   30|\n",
            "|     129|     36|                   30|\n",
            "|     188|     36|                   30|\n",
            "|     108|     37|                   30|\n",
            "|     188|     38|                   30|\n",
            "|     181|     39|                   30|\n",
            "|       5|     40|                   30|\n",
            "|      58|     40|                   30|\n",
            "|     152|     40|                   30|\n",
            "|      71|     42|                   30|\n",
            "|      32|     43|                   30|\n",
            "|      62|     43|                   30|\n",
            "|      47|     45|                   30|\n",
            "|     103|     45|                   30|\n",
            "|      59|     46|                   30|\n",
            "|     151|     46|                   30|\n",
            "|      31|     47|                   30|\n",
            "|      89|     47|                   30|\n",
            "|     132|     47|                   30|\n",
            "|     108|     48|                   30|\n",
            "|       5|     49|                   30|\n",
            "|      51|     50|                   30|\n",
            "|     188|     51|                   30|\n",
            "|     148|     53|                   30|\n",
            "|      44|     54|                   30|\n",
            "|      20|     55|                   30|\n",
            "|     120|     55|                   30|\n",
            "|      29|     57|                   30|\n",
            "|      96|     57|                   30|\n",
            "|     195|     58|                   30|\n",
            "|     122|     59|                   30|\n",
            "|     125|     59|                   30|\n",
            "|     187|     62|                   30|\n",
            "|     138|     64|                   30|\n",
            "|     144|     66|                   30|\n",
            "|     170|     67|                   30|\n",
            "|      68|     74|                   30|\n",
            "|     158|     53|                   30|\n",
            "|     182|     55|                   30|\n",
            "|     142|     58|                   30|\n",
            "|     127|     66|                   30|\n",
            "|     119|     67|                   30|\n",
            "|      43|     69|                   30|\n",
            "|      45|     70|                   30|\n",
            "|     156|     71|                   30|\n",
            "|      29|     72|                   30|\n",
            "|     106|     72|                   30|\n",
            "|      86|     73|                   30|\n",
            "|     125|     74|                   30|\n",
            "|     129|     74|                   30|\n",
            "|     139|     74|                   30|\n",
            "|      26|     75|                   30|\n",
            "|      99|     76|                   30|\n",
            "|     117|     78|                   30|\n",
            "|      93|     80|                   30|\n",
            "|       3|     81|                   30|\n",
            "|      44|     84|                   30|\n",
            "+--------+-------+---------------------+\n",
            "only showing top 200 rows\n",
            "\n",
            "Data where far_price is null:\n",
            "+--------+-------+---------------------+\n",
            "|stock_id|date_id|Number_of_null_values|\n",
            "+--------+-------+---------------------+\n",
            "|     196|      0|                   30|\n",
            "|      92|      2|                   30|\n",
            "|     162|      3|                   30|\n",
            "|      71|      4|                   30|\n",
            "|      43|      7|                   30|\n",
            "|     163|      7|                   30|\n",
            "|      92|      8|                   30|\n",
            "|     179|      8|                   30|\n",
            "|      39|     11|                   30|\n",
            "|      83|     11|                   30|\n",
            "|     137|     11|                   30|\n",
            "|      61|     13|                   30|\n",
            "|     154|     13|                   30|\n",
            "|      15|     14|                   30|\n",
            "|     155|     14|                   30|\n",
            "|     114|     15|                   30|\n",
            "|      28|     16|                   30|\n",
            "|     128|     21|                   30|\n",
            "|       3|     22|                   30|\n",
            "|      77|     23|                   30|\n",
            "|      47|     24|                   30|\n",
            "|      89|     25|                   30|\n",
            "|      15|     26|                   30|\n",
            "|      32|     26|                   30|\n",
            "|      56|     26|                   30|\n",
            "|     126|     26|                   30|\n",
            "|     158|     27|                   30|\n",
            "|     170|     27|                   30|\n",
            "|      56|     30|                   30|\n",
            "|      47|     32|                   30|\n",
            "|      58|     32|                   30|\n",
            "|      58|     34|                   30|\n",
            "|     196|     34|                   30|\n",
            "|     115|     36|                   30|\n",
            "|     183|     36|                   30|\n",
            "|      33|     37|                   30|\n",
            "|     147|     37|                   30|\n",
            "|     184|     37|                   30|\n",
            "|     100|     38|                   30|\n",
            "|     139|     40|                   30|\n",
            "|     120|     43|                   30|\n",
            "|      35|     45|                   30|\n",
            "|     195|     46|                   30|\n",
            "|      64|     48|                   30|\n",
            "|      49|     49|                   30|\n",
            "|      53|     49|                   30|\n",
            "|      65|     50|                   30|\n",
            "|      84|     51|                   30|\n",
            "|     137|     51|                   30|\n",
            "|       8|     52|                   30|\n",
            "|     173|     53|                   30|\n",
            "|      96|     54|                   30|\n",
            "|     198|     54|                   30|\n",
            "|       7|     55|                   30|\n",
            "|       3|     57|                   30|\n",
            "|      68|     57|                   30|\n",
            "|      52|     58|                   30|\n",
            "|     148|     59|                   30|\n",
            "|      25|     61|                   30|\n",
            "|     130|     62|                   30|\n",
            "|      28|     63|                   30|\n",
            "|      90|     64|                   30|\n",
            "|     198|     90|                   30|\n",
            "|     134|     95|                   30|\n",
            "|     126|     52|                   30|\n",
            "|      22|     53|                   30|\n",
            "|      91|     64|                   30|\n",
            "|      27|     65|                   30|\n",
            "|     121|     66|                   30|\n",
            "|     113|     67|                   30|\n",
            "|      18|     68|                   30|\n",
            "|     166|     70|                   30|\n",
            "|     126|     73|                   30|\n",
            "|     159|     76|                   31|\n",
            "|      32|     79|                   30|\n",
            "|     118|     79|                   30|\n",
            "|       2|     80|                   30|\n",
            "|     157|     80|                   30|\n",
            "|     162|     80|                   30|\n",
            "|      58|     81|                   30|\n",
            "|      63|     81|                   30|\n",
            "|      36|     83|                   30|\n",
            "|      60|     84|                   30|\n",
            "|      10|     85|                   46|\n",
            "|     166|     85|                   30|\n",
            "|     147|     86|                   30|\n",
            "|     190|     86|                   30|\n",
            "|      62|     87|                   31|\n",
            "|       3|     89|                   30|\n",
            "|      57|     91|                   30|\n",
            "|     139|     91|                   30|\n",
            "|      58|     93|                   30|\n",
            "|     159|     93|                   30|\n",
            "|     150|     94|                   30|\n",
            "|      18|     95|                   30|\n",
            "|      42|     96|                   30|\n",
            "|      75|     97|                   30|\n",
            "|      73|     98|                   30|\n",
            "|      43|    100|                   30|\n",
            "|      89|    100|                   30|\n",
            "|     169|    100|                   30|\n",
            "|      41|    103|                   30|\n",
            "|      53|    103|                   30|\n",
            "|     147|    105|                   30|\n",
            "|      62|      1|                   30|\n",
            "|     105|      1|                   30|\n",
            "|     108|      1|                   30|\n",
            "|     118|      1|                   30|\n",
            "|     185|      1|                   30|\n",
            "|      10|      2|                   30|\n",
            "|     192|      2|                   30|\n",
            "|      41|      3|                   30|\n",
            "|     104|      5|                   30|\n",
            "|      23|      6|                   30|\n",
            "|      48|      6|                   30|\n",
            "|      59|      7|                   30|\n",
            "|      33|      8|                   30|\n",
            "|      86|     10|                   31|\n",
            "|      57|     12|                   30|\n",
            "|     140|     13|                   30|\n",
            "|       3|     15|                   30|\n",
            "|     165|     15|                   30|\n",
            "|     113|     16|                   30|\n",
            "|     181|     16|                   30|\n",
            "|     152|     17|                   30|\n",
            "|      30|     18|                   30|\n",
            "|     167|     18|                   30|\n",
            "|     184|     18|                   30|\n",
            "|     103|     19|                   30|\n",
            "|      92|     21|                   30|\n",
            "|      32|     27|                   30|\n",
            "|      62|     27|                   30|\n",
            "|      75|     27|                   30|\n",
            "|     113|     27|                   30|\n",
            "|      93|     28|                   30|\n",
            "|     185|     28|                   30|\n",
            "|      93|     29|                   30|\n",
            "|       3|     30|                   30|\n",
            "|      94|     32|                   30|\n",
            "|     183|     32|                   30|\n",
            "|      17|     33|                   30|\n",
            "|      22|     33|                   30|\n",
            "|     196|     35|                   30|\n",
            "|     113|     36|                   30|\n",
            "|     129|     36|                   44|\n",
            "|     188|     36|                   30|\n",
            "|     108|     37|                   30|\n",
            "|     188|     38|                   30|\n",
            "|     181|     39|                   30|\n",
            "|       5|     40|                   30|\n",
            "|      58|     40|                   30|\n",
            "|     152|     40|                   30|\n",
            "|      71|     42|                   30|\n",
            "|      32|     43|                   30|\n",
            "|      62|     43|                   30|\n",
            "|      47|     45|                   30|\n",
            "|     103|     45|                   30|\n",
            "|      59|     46|                   30|\n",
            "|     151|     46|                   30|\n",
            "|      31|     47|                   30|\n",
            "|      89|     47|                   30|\n",
            "|     132|     47|                   30|\n",
            "|     108|     48|                   30|\n",
            "|       5|     49|                   30|\n",
            "|      51|     50|                   30|\n",
            "|     188|     51|                   30|\n",
            "|     148|     53|                   30|\n",
            "|      44|     54|                   30|\n",
            "|      20|     55|                   30|\n",
            "|     120|     55|                   46|\n",
            "|      29|     57|                   30|\n",
            "|      96|     57|                   30|\n",
            "|     195|     58|                   30|\n",
            "|     122|     59|                   30|\n",
            "|     125|     59|                   46|\n",
            "|     187|     62|                   30|\n",
            "|     138|     64|                   30|\n",
            "|     144|     66|                   30|\n",
            "|     170|     67|                   30|\n",
            "|      68|     74|                   30|\n",
            "|     158|     53|                   30|\n",
            "|     182|     55|                   30|\n",
            "|     142|     58|                   30|\n",
            "|     127|     66|                   30|\n",
            "|     119|     67|                   30|\n",
            "|      43|     69|                   30|\n",
            "|      45|     70|                   30|\n",
            "|     156|     71|                   30|\n",
            "|      29|     72|                   30|\n",
            "|     106|     72|                   30|\n",
            "|      86|     73|                   30|\n",
            "|     125|     74|                   30|\n",
            "|     129|     74|                   30|\n",
            "|     139|     74|                   30|\n",
            "|      26|     75|                   30|\n",
            "|      99|     76|                   30|\n",
            "|     117|     78|                   30|\n",
            "|      93|     80|                   30|\n",
            "|       3|     81|                   30|\n",
            "|      44|     84|                   30|\n",
            "+--------+-------+---------------------+\n",
            "only showing top 200 rows\n",
            "\n"
          ]
        }
      ],
      "source": [
        "df.createOrReplaceTempView(\"filled_csv\")\n",
        "\n",
        "print('Data where near_price is null:')\n",
        "spark.sql(\"select stock_id, date_id, count(*) as Number_of_null_values from filled_csv where near_price is null group by stock_id, date_id\").show(200)\n",
        "print('Data where far_price is null:')\n",
        "spark.sql(\"select stock_id, date_id, count(*) as Number_of_null_values from filled_csv where far_price is null group by stock_id, date_id\").show(200)"
      ]
    },
    {
      "cell_type": "code",
      "execution_count": 20,
      "id": "35b3360b",
      "metadata": {
        "id": "35b3360b",
        "colab": {
          "base_uri": "https://localhost:8080/",
          "height": 17
        },
        "outputId": "d3b0cae9-5c3a-489f-98f8-acd939e1962d"
      },
      "outputs": [
        {
          "output_type": "display_data",
          "data": {
            "text/plain": [
              "<IPython.core.display.Javascript object>"
            ],
            "application/javascript": [
              "\n",
              "    async function download(id, filename, size) {\n",
              "      if (!google.colab.kernel.accessAllowed) {\n",
              "        return;\n",
              "      }\n",
              "      const div = document.createElement('div');\n",
              "      const label = document.createElement('label');\n",
              "      label.textContent = `Downloading \"${filename}\": `;\n",
              "      div.appendChild(label);\n",
              "      const progress = document.createElement('progress');\n",
              "      progress.max = size;\n",
              "      div.appendChild(progress);\n",
              "      document.body.appendChild(div);\n",
              "\n",
              "      const buffers = [];\n",
              "      let downloaded = 0;\n",
              "\n",
              "      const channel = await google.colab.kernel.comms.open(id);\n",
              "      // Send a message to notify the kernel that we're ready.\n",
              "      channel.send({})\n",
              "\n",
              "      for await (const message of channel.messages) {\n",
              "        // Send a message to notify the kernel that we're ready.\n",
              "        channel.send({})\n",
              "        if (message.buffers) {\n",
              "          for (const buffer of message.buffers) {\n",
              "            buffers.push(buffer);\n",
              "            downloaded += buffer.byteLength;\n",
              "            progress.value = downloaded;\n",
              "          }\n",
              "        }\n",
              "      }\n",
              "      const blob = new Blob(buffers, {type: 'application/binary'});\n",
              "      const a = document.createElement('a');\n",
              "      a.href = window.URL.createObjectURL(blob);\n",
              "      a.download = filename;\n",
              "      div.appendChild(a);\n",
              "      a.click();\n",
              "      div.remove();\n",
              "    }\n",
              "  "
            ]
          },
          "metadata": {}
        },
        {
          "output_type": "display_data",
          "data": {
            "text/plain": [
              "<IPython.core.display.Javascript object>"
            ],
            "application/javascript": [
              "download(\"download_6027abe5-1b18-49af-9e59-15fab59e5e02\", \"cleaned_optiver_data_new.zip\", 216963787)"
            ]
          },
          "metadata": {}
        }
      ],
      "source": [
        "# # Downloading the csv before normalization for plotly vizualization\n",
        "\n",
        "# df = df.repartition(1)\n",
        "# df.write.csv(\"cleaned_optiver_data\", header=True)\n",
        "from pyspark.sql import SparkSession\n",
        "import shutil\n",
        "import os\n",
        "from google.colab import files  # If you're on Google Colab\n",
        "\n",
        "# Repartition and write the DataFrame\n",
        "df = df.repartition(1)\n",
        "df.write.csv(\"cleaned_optiver_data_new\", header=True)\n",
        "\n",
        "# Zip the folder\n",
        "shutil.make_archive(\"cleaned_optiver_data_new\", 'zip', \"cleaned_optiver_data_new\")\n",
        "\n",
        "# Download the zipped folder\n",
        "files.download(\"cleaned_optiver_data_new.zip\")"
      ]
    },
    {
      "cell_type": "markdown",
      "id": "0aa09479",
      "metadata": {
        "id": "0aa09479"
      },
      "source": [
        "## Data Normalization"
      ]
    },
    {
      "cell_type": "code",
      "execution_count": 21,
      "id": "7fb5fcfd",
      "metadata": {
        "id": "7fb5fcfd",
        "colab": {
          "base_uri": "https://localhost:8080/"
        },
        "outputId": "99770efe-6a8d-4bb9-b526-4b0fc163e518"
      },
      "outputs": [
        {
          "output_type": "stream",
          "name": "stdout",
          "text": [
            "+--------+-------+-----------------+--------------+-----------------------+---------------+-------------+---------+----------+---------+--------+---------+--------+--------+-----------+-------+--------+--------------------+--------------------+\n",
            "|stock_id|date_id|seconds_in_bucket|imbalance_size|imbalance_buy_sell_flag|reference_price| matched_size|far_price|near_price|bid_price|bid_size|ask_price|ask_size|     wap|     target|time_id|  row_id|     scaled_features| normalized_features|\n",
            "+--------+-------+-----------------+--------------+-----------------------+---------------+-------------+---------+----------+---------+--------+---------+--------+--------+-----------+-------+--------+--------------------+--------------------+\n",
            "|      12|      0|                0| 1.173994544E7|                      1|       0.999794| 1.35971187E7|      0.0|       0.0| 0.999794| 33221.0| 1.000296| 47824.0|     1.0|   8.399487|      0|  0_0_12|[1.173994544E7,0....|[0.00393690004969...|\n",
            "|      12|      0|               10| 1.019305804E7|                      1|       1.000882|1.512392596E7|      0.0|       0.0| 1.000673| 1674.47| 1.000965| 5503.44|1.000741|   4.990101|      1| 0_10_12|[1.019305804E7,1....|[0.00341816330487...|\n",
            "|      12|      0|               20| 1.016819692E7|                      1|       1.001007|1.512392596E7|      0.0|       0.0| 1.000965|17467.44| 1.001007|13878.82|1.000989|   9.189844|      2| 0_20_12|[1.016819692E7,1....|[0.00340982632025...|\n",
            "|      12|      0|               30| 1.016819692E7|                      1|       1.001133|1.512392596E7|      0.0|       0.0| 1.001007| 5025.09|   1.0013|29441.28| 1.00105|   8.020401|      3| 0_30_12|[1.016819692E7,1....|[0.00340982632025...|\n",
            "|      12|      0|               40|    9954725.98|                      1|       1.001216| 1.53373969E7|      0.0|       0.0| 1.001091| 5504.13| 1.001258|23216.95|1.001123|   7.699728|      4| 0_40_12|[9954725.98,1.001...|[0.00333824048890...|\n",
            "|      12|      0|               50|    9964287.95|                      1|       1.001426| 1.53373969E7|      0.0|       0.0|   1.0013|24414.72| 1.001426|49793.12|1.001341|  2.1898746|      5| 0_50_12|[9964287.95,1.001...|[0.00334144702171...|\n",
            "|      12|      0|               60|    9964287.95|                      1|        1.00176| 1.53373969E7|      0.0|       0.0| 1.001593|16041.81|  1.00176| 23947.0| 1.00166|-0.87976456|      6| 0_60_12|[9964287.95,1.001...|[0.00334144702171...|\n",
            "|      12|      0|               70|    9966200.34|                      1|        1.00176|1.534576362E7|      0.0|       0.0| 1.001677| 38790.9| 1.001802|51967.16| 1.00173| 0.23007393|      7| 0_70_12|[9966200.34,1.001...|[0.00334208832693...|\n",
            "|      12|      0|               80|    9985563.33|                      1|       1.001844|1.534576362E7|      0.0|       0.0|  1.00176| 23947.0| 1.001886| 70173.5|1.001792| -4.7701597|      8| 0_80_12|[9985563.33,1.001...|[0.00334858155611...|\n",
            "|      12|      0|               90|    9983411.89|                      1|        1.00176|1.534791506E7|      0.0|       0.0| 1.001635|  2394.4| 1.001802|24666.44| 1.00165| -2.3502111|      9| 0_90_12|[9983411.89,1.001...|[0.00334786008731...|\n",
            "|      12|      0|              100|  1.01748903E7|                      1|       1.001551|1.534791506E7|      0.0|       0.0| 1.001384| 23938.0| 1.001551| 5267.24|1.001521|  -4.249811|     10|0_100_12|[1.01748903E7,1.0...|[0.00341207089355...|\n",
            "|      12|      0|              110|  1.01748903E7|                      1|       1.001258|1.534791506E7|      0.0|       0.0| 1.001091| 8854.47|   1.0013| 95744.0|1.001109|   1.399517|     11|0_110_12|[1.01748903E7,1.0...|[0.00341207089355...|\n",
            "|      12|      0|              120| 1.044740639E7|                      1|       1.001049|1.534791506E7|      0.0|       0.0| 1.000965| 1435.68| 1.001091| 47862.0|1.000969|  1.8703938|     12|0_120_12|[1.044740639E7,1....|[0.00350345706001...|\n",
            "|      12|      0|              130| 1.044740639E7|                      1|       1.001175|1.534791506E7|      0.0|       0.0| 1.001049|  1196.5| 1.001175|44994.04|1.001052|  1.4805794|     13|0_130_12|[1.044740639E7,1....|[0.00350345706001...|\n",
            "|      12|      0|              140| 1.044740639E7|                      1|       1.001091|1.534791506E7|      0.0|       0.0| 1.000965|26560.08| 1.001091| 23931.0|1.001031|  1.2505054|     14|0_140_12|[1.044740639E7,1....|[0.00350345706001...|\n",
            "|      12|      0|              150| 1.065753064E7|                      1|       1.001216|1.542417176E7|      0.0|       0.0| 1.001049|  5264.6| 1.001216|  239.34|1.001209|-0.18000603|     15|0_150_12|[1.065753064E7,1....|[0.00357392060471...|\n",
            "|      12|      0|              160| 1.068239176E7|                      1|       1.000798|1.542417176E7|      0.0|       0.0| 1.000631|   478.4| 1.000798| 23924.0|1.000634| -0.6699562|     16|0_160_12|[1.068239176E7,1....|[0.00358225758933...|\n",
            "|      12|      0|              170| 1.068239176E7|                      1|       1.000673|1.542417176E7|      0.0|       0.0| 1.000547| 26309.8| 1.000714| 2870.64|1.000698| -2.6202202|     17|0_170_12|[1.068239176E7,1....|[0.00358225758933...|\n",
            "|      12|      0|              180| 1.166512303E7|                      1|       1.000756|1.575884064E7|      0.0|       0.0| 1.000673| 2152.89| 1.001007| 23929.0|  1.0007| -2.9999018|     18|0_180_12|[1.166512303E7,1....|[0.00391180893226...|\n",
            "|      12|      0|              190| 1.117865791E7|                      1|       1.001007|1.622044466E7|      0.0|       0.0| 1.000882| 7895.58| 1.001007|82076.47|1.000893|  -7.749796|     19|0_190_12|[1.117865791E7,1....|[0.00374867661066...|\n",
            "+--------+-------+-----------------+--------------+-----------------------+---------------+-------------+---------+----------+---------+--------+---------+--------+--------+-----------+-------+--------+--------------------+--------------------+\n",
            "only showing top 20 rows\n",
            "\n"
          ]
        }
      ],
      "source": [
        "from pyspark.ml.feature import MinMaxScaler\n",
        "from pyspark.ml.feature import VectorAssembler\n",
        "\n",
        "columns_to_scale = [\n",
        "      'imbalance_size', 'reference_price', 'matched_size', 'far_price', 'near_price', 'bid_price', 'bid_size',\n",
        "     'ask_price', 'ask_size', 'wap']\n",
        "\n",
        "# Assemble columns into a single vector\n",
        "assembler = VectorAssembler(inputCols=columns_to_scale, outputCol=\"scaled_features\")\n",
        "df = assembler.transform(df)\n",
        "\n",
        "# Apply MinMaxScaler to normalize the features\n",
        "scaler = MinMaxScaler(inputCol=\"scaled_features\", outputCol=\"normalized_features\")\n",
        "scaler_model = scaler.fit(df)\n",
        "df = scaler_model.transform(df)\n",
        "\n",
        "# Show normalized features\n",
        "df.show(truncate=True)\n"
      ]
    },
    {
      "cell_type": "code",
      "execution_count": 22,
      "id": "e7c63528",
      "metadata": {
        "id": "e7c63528"
      },
      "outputs": [],
      "source": [
        "# Save the normalized data as a hive table for downstream tasks\n",
        "\n",
        "df.write.option('path', 'hive_table_bigdata').saveAsTable('t')"
      ]
    },
    {
      "cell_type": "code",
      "source": [
        "# import shutil\n",
        "# shutil.make_archive(\"spark-warehouse\", 'zip', \"spark-warehouse\")\n",
        "\n",
        "# # Download the zipped folder\n",
        "# files.download(\"spark-warehouse.zip\")"
      ],
      "metadata": {
        "id": "LliG6Z823g6u"
      },
      "id": "LliG6Z823g6u",
      "execution_count": 23,
      "outputs": []
    }
  ],
  "metadata": {
    "kernelspec": {
      "display_name": "Python [conda env:csgy-6513d-fall2023]",
      "language": "python",
      "name": "conda-env-csgy-6513d-fall2023-py"
    },
    "language_info": {
      "codemirror_mode": {
        "name": "ipython",
        "version": 3
      },
      "file_extension": ".py",
      "mimetype": "text/x-python",
      "name": "python",
      "nbconvert_exporter": "python",
      "pygments_lexer": "ipython3",
      "version": "3.9.18"
    },
    "colab": {
      "provenance": [],
      "gpuType": "T4"
    },
    "accelerator": "GPU"
  },
  "nbformat": 4,
  "nbformat_minor": 5
}